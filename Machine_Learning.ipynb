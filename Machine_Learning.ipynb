{
 "cells": [
  {
   "cell_type": "code",
   "execution_count": 1,
   "metadata": {
    "Collapsed": "false"
   },
   "outputs": [
    {
     "data": {
      "text/plain": [
       "'\\nCreated on Wed Apr 13 07:10:38 2020\\n\\n@author: willem van der Schans\\n'"
      ]
     },
     "execution_count": 1,
     "metadata": {},
     "output_type": "execute_result"
    }
   ],
   "source": [
    "# -*- coding: utf-8 -*-\n",
    "\"\"\"\n",
    "Created on Wed Apr 13 07:10:38 2020\n",
    "\n",
    "@author: willem van der Schans\n",
    "\"\"\"\n"
   ]
  },
  {
   "cell_type": "code",
   "execution_count": 2,
   "metadata": {
    "Collapsed": "false"
   },
   "outputs": [],
   "source": [
    "\n",
    "import time\n",
    "import random\n",
    "start_time = time.time()\n",
    "random.seed(123)\n",
    "\n",
    "import pandas as pd #Data Processing\n",
    "import numpy as np # Analytics\n",
    "np.random.seed(seed=123)\n",
    "import matplotlib.pyplot as plt #Plots\n",
    "import seaborn as sns #Plots\n",
    "import warnings\n",
    "from scipy import stats\n",
    "from scipy.stats import norm, skew\n",
    "# Set seaborn settings\n",
    "color = sns.color_palette(\"bright\")\n",
    "#plt.style.use('dark_background')\n",
    "#sns.set.style('darkgrid')\n",
    "\n",
    "def ingore_warn(*args, **kwargs):\n",
    "    pass\n",
    "warnings.warn = ingore_warn #Ignore warnings"
   ]
  },
  {
   "cell_type": "markdown",
   "metadata": {
    "Collapsed": "false"
   },
   "source": [
    "# Import Data"
   ]
  },
  {
   "cell_type": "markdown",
   "metadata": {
    "Collapsed": "false"
   },
   "source": [
    "I uploaded the data to my github so the code works on any computer that runs python 3"
   ]
  },
  {
   "cell_type": "code",
   "execution_count": 3,
   "metadata": {
    "Collapsed": "false"
   },
   "outputs": [],
   "source": [
    "test = pd.read_excel(\"https://github.com/Kydoimos97/FINAN6500DATA/raw/master/data/SBA_test_data.xlsx\")\n",
    "train = pd.read_excel(\"https://github.com/Kydoimos97/FINAN6500DATA/raw/master/data/SBA_training_data.xlsx\")\n",
    "codebook = pd.read_csv(\"https://github.com/Kydoimos97/FINAN6500DATA/raw/master/data/Variables.csv\")"
   ]
  },
  {
   "cell_type": "markdown",
   "metadata": {
    "Collapsed": "false"
   },
   "source": [
    "# Codebook"
   ]
  },
  {
   "cell_type": "code",
   "execution_count": 4,
   "metadata": {
    "Collapsed": "false"
   },
   "outputs": [
    {
     "data": {
      "text/html": [
       "<div>\n",
       "<style scoped>\n",
       "    .dataframe tbody tr th:only-of-type {\n",
       "        vertical-align: middle;\n",
       "    }\n",
       "\n",
       "    .dataframe tbody tr th {\n",
       "        vertical-align: top;\n",
       "    }\n",
       "\n",
       "    .dataframe thead th {\n",
       "        text-align: right;\n",
       "    }\n",
       "</style>\n",
       "<table border=\"1\" class=\"dataframe\">\n",
       "  <thead>\n",
       "    <tr style=\"text-align: right;\">\n",
       "      <th></th>\n",
       "      <th>Variable name</th>\n",
       "      <th>Data type</th>\n",
       "      <th>Description of variable</th>\n",
       "    </tr>\n",
       "  </thead>\n",
       "  <tbody>\n",
       "    <tr>\n",
       "      <th>0</th>\n",
       "      <td>LoanNr_ChkDgt</td>\n",
       "      <td>Text</td>\n",
       "      <td>Identifier – Primary key</td>\n",
       "    </tr>\n",
       "    <tr>\n",
       "      <th>1</th>\n",
       "      <td>Name</td>\n",
       "      <td>Text</td>\n",
       "      <td>Borrower name</td>\n",
       "    </tr>\n",
       "    <tr>\n",
       "      <th>2</th>\n",
       "      <td>City</td>\n",
       "      <td>Text</td>\n",
       "      <td>Borrower city</td>\n",
       "    </tr>\n",
       "    <tr>\n",
       "      <th>3</th>\n",
       "      <td>State</td>\n",
       "      <td>Text</td>\n",
       "      <td>Borrower state</td>\n",
       "    </tr>\n",
       "    <tr>\n",
       "      <th>4</th>\n",
       "      <td>Zip</td>\n",
       "      <td>Text</td>\n",
       "      <td>Borrower zip code</td>\n",
       "    </tr>\n",
       "    <tr>\n",
       "      <th>5</th>\n",
       "      <td>Bank</td>\n",
       "      <td>Text</td>\n",
       "      <td>Bank name</td>\n",
       "    </tr>\n",
       "    <tr>\n",
       "      <th>6</th>\n",
       "      <td>BankState</td>\n",
       "      <td>Text</td>\n",
       "      <td>Bank state</td>\n",
       "    </tr>\n",
       "    <tr>\n",
       "      <th>7</th>\n",
       "      <td>NAICS</td>\n",
       "      <td>Text</td>\n",
       "      <td>North American industry classification system ...</td>\n",
       "    </tr>\n",
       "    <tr>\n",
       "      <th>8</th>\n",
       "      <td>ApprovalDate</td>\n",
       "      <td>Date/Time</td>\n",
       "      <td>Date SBA commitment issued</td>\n",
       "    </tr>\n",
       "    <tr>\n",
       "      <th>9</th>\n",
       "      <td>ApprovalFY</td>\n",
       "      <td>Text</td>\n",
       "      <td>Fiscal year of commitment</td>\n",
       "    </tr>\n",
       "    <tr>\n",
       "      <th>10</th>\n",
       "      <td>Term</td>\n",
       "      <td>Number</td>\n",
       "      <td>Loan term in months</td>\n",
       "    </tr>\n",
       "    <tr>\n",
       "      <th>11</th>\n",
       "      <td>NoEmp</td>\n",
       "      <td>Number</td>\n",
       "      <td>Number of business employees</td>\n",
       "    </tr>\n",
       "    <tr>\n",
       "      <th>12</th>\n",
       "      <td>NewExist</td>\n",
       "      <td>Text</td>\n",
       "      <td>1 = Existing business, 2 = New business</td>\n",
       "    </tr>\n",
       "    <tr>\n",
       "      <th>13</th>\n",
       "      <td>CreateJob</td>\n",
       "      <td>Number</td>\n",
       "      <td>Number of jobs created</td>\n",
       "    </tr>\n",
       "    <tr>\n",
       "      <th>14</th>\n",
       "      <td>RetainedJob</td>\n",
       "      <td>Number</td>\n",
       "      <td>Number of jobs retained</td>\n",
       "    </tr>\n",
       "    <tr>\n",
       "      <th>15</th>\n",
       "      <td>FranchiseCode</td>\n",
       "      <td>Text</td>\n",
       "      <td>Franchise code, (00000 or 00001) = No franchise</td>\n",
       "    </tr>\n",
       "    <tr>\n",
       "      <th>16</th>\n",
       "      <td>UrbanRural</td>\n",
       "      <td>Text</td>\n",
       "      <td>1 = Urban, 2 = rural, 0 = undefined</td>\n",
       "    </tr>\n",
       "    <tr>\n",
       "      <th>17</th>\n",
       "      <td>RevLineCr</td>\n",
       "      <td>Text</td>\n",
       "      <td>Revolving line of credit: Y = Yes, N = No</td>\n",
       "    </tr>\n",
       "    <tr>\n",
       "      <th>18</th>\n",
       "      <td>LowDoc</td>\n",
       "      <td>Text</td>\n",
       "      <td>LowDoc Loan Program: Y = Yes, N = No</td>\n",
       "    </tr>\n",
       "    <tr>\n",
       "      <th>19</th>\n",
       "      <td>ChgOffDate</td>\n",
       "      <td>Date/Time</td>\n",
       "      <td>The date when a loan is declared to be in default</td>\n",
       "    </tr>\n",
       "    <tr>\n",
       "      <th>20</th>\n",
       "      <td>DisbursementDate</td>\n",
       "      <td>Date/Time</td>\n",
       "      <td>Disbursement date</td>\n",
       "    </tr>\n",
       "    <tr>\n",
       "      <th>21</th>\n",
       "      <td>DisbursementGross</td>\n",
       "      <td>Currency</td>\n",
       "      <td>Amount disbursed</td>\n",
       "    </tr>\n",
       "    <tr>\n",
       "      <th>22</th>\n",
       "      <td>BalanceGross</td>\n",
       "      <td>Currency</td>\n",
       "      <td>Gross amount outstanding</td>\n",
       "    </tr>\n",
       "    <tr>\n",
       "      <th>23</th>\n",
       "      <td>MIS_Status</td>\n",
       "      <td>Text</td>\n",
       "      <td>Loan status charged off = CHGOFF, Paid in full...</td>\n",
       "    </tr>\n",
       "    <tr>\n",
       "      <th>24</th>\n",
       "      <td>ChgOffPrinGr</td>\n",
       "      <td>Currency</td>\n",
       "      <td>Charged-off amount</td>\n",
       "    </tr>\n",
       "    <tr>\n",
       "      <th>25</th>\n",
       "      <td>GrAppv</td>\n",
       "      <td>Currency</td>\n",
       "      <td>Gross amount of loan approved by bank</td>\n",
       "    </tr>\n",
       "    <tr>\n",
       "      <th>26</th>\n",
       "      <td>SBA_Appv</td>\n",
       "      <td>Currency</td>\n",
       "      <td>SBA's guaranteed amount of approved loan</td>\n",
       "    </tr>\n",
       "  </tbody>\n",
       "</table>\n",
       "</div>"
      ],
      "text/plain": [
       "        Variable name  Data type  \\\n",
       "0       LoanNr_ChkDgt       Text   \n",
       "1                Name       Text   \n",
       "2                City       Text   \n",
       "3               State       Text   \n",
       "4                 Zip       Text   \n",
       "5                Bank       Text   \n",
       "6           BankState       Text   \n",
       "7               NAICS       Text   \n",
       "8        ApprovalDate  Date/Time   \n",
       "9          ApprovalFY       Text   \n",
       "10               Term     Number   \n",
       "11              NoEmp     Number   \n",
       "12           NewExist       Text   \n",
       "13          CreateJob     Number   \n",
       "14        RetainedJob     Number   \n",
       "15      FranchiseCode       Text   \n",
       "16         UrbanRural       Text   \n",
       "17          RevLineCr       Text   \n",
       "18             LowDoc       Text   \n",
       "19         ChgOffDate  Date/Time   \n",
       "20   DisbursementDate  Date/Time   \n",
       "21  DisbursementGross   Currency   \n",
       "22       BalanceGross   Currency   \n",
       "23         MIS_Status       Text   \n",
       "24       ChgOffPrinGr   Currency   \n",
       "25             GrAppv   Currency   \n",
       "26           SBA_Appv   Currency   \n",
       "\n",
       "                              Description of variable  \n",
       "0                            Identifier – Primary key  \n",
       "1                                       Borrower name  \n",
       "2                                       Borrower city  \n",
       "3                                      Borrower state  \n",
       "4                                   Borrower zip code  \n",
       "5                                           Bank name  \n",
       "6                                          Bank state  \n",
       "7   North American industry classification system ...  \n",
       "8                          Date SBA commitment issued  \n",
       "9                           Fiscal year of commitment  \n",
       "10                                Loan term in months  \n",
       "11                       Number of business employees  \n",
       "12            1 = Existing business, 2 = New business  \n",
       "13                             Number of jobs created  \n",
       "14                            Number of jobs retained  \n",
       "15    Franchise code, (00000 or 00001) = No franchise  \n",
       "16                1 = Urban, 2 = rural, 0 = undefined  \n",
       "17          Revolving line of credit: Y = Yes, N = No  \n",
       "18               LowDoc Loan Program: Y = Yes, N = No  \n",
       "19  The date when a loan is declared to be in default  \n",
       "20                                  Disbursement date  \n",
       "21                                   Amount disbursed  \n",
       "22                           Gross amount outstanding  \n",
       "23  Loan status charged off = CHGOFF, Paid in full...  \n",
       "24                                 Charged-off amount  \n",
       "25              Gross amount of loan approved by bank  \n",
       "26           SBA's guaranteed amount of approved loan  "
      ]
     },
     "execution_count": 4,
     "metadata": {},
     "output_type": "execute_result"
    }
   ],
   "source": [
    "\n",
    "codebook.head(codebook.shape[0])"
   ]
  },
  {
   "cell_type": "markdown",
   "metadata": {
    "Collapsed": "false"
   },
   "source": [
    "# Exploratory Analysis and Data Cleaning"
   ]
  },
  {
   "cell_type": "markdown",
   "metadata": {
    "Collapsed": "false"
   },
   "source": [
    "## Train"
   ]
  },
  {
   "cell_type": "code",
   "execution_count": 5,
   "metadata": {
    "Collapsed": "false"
   },
   "outputs": [
    {
     "name": "stdout",
     "output_type": "stream",
     "text": [
      "   LoanNr_ChkDgt                            Name            City State    Zip  \\\n",
      "0     1000014003                  ABC HOBBYCRAFT      EVANSVILLE    IN  47711   \n",
      "1     1000024006     LANDMARK BAR & GRILLE (THE)       NEW PARIS    IN  46526   \n",
      "2     1000034009           WHITLOCK DDS, TODD M.     BLOOMINGTON    IN  47401   \n",
      "3     1000044001   BIG BUCKS PAWN & JEWELRY, LLC    BROKEN ARROW    OK  74012   \n",
      "4     1000054004     ANASTASIA CONFECTIONS, INC.         ORLANDO    FL  32801   \n",
      "5     1000084002  B&T SCREW MACHINE COMPANY, INC      PLAINVILLE    CT   6062   \n",
      "6     1000093009   MIDDLE ATLANTIC SPORTS CO INC           UNION    NJ   7083   \n",
      "7     1000094005                 WEAVER PRODUCTS     SUMMERFIELD    FL  34491   \n",
      "8     1000104006                TURTLE BEACH INN  PORT SAINT JOE    FL  32456   \n",
      "9     1000124001         INTEXT BUILDING SYS LLC     GLASTONBURY    CT   6073   \n",
      "\n",
      "                            Bank BankState   NAICS ApprovalDate  ApprovalFY  \\\n",
      "0               FIFTH THIRD BANK        OH  451120   1997-02-28        1997   \n",
      "1                1ST SOURCE BANK        IN  722410   1997-02-28        1997   \n",
      "2        GRANT COUNTY STATE BANK        IN  621210   1997-02-28        1997   \n",
      "3  1ST NATL BK & TR CO OF BROKEN        OK       0   1997-02-28        1997   \n",
      "4        FLORIDA BUS. DEVEL CORP        FL       0   1997-02-28        1997   \n",
      "5  TD BANK, NATIONAL ASSOCIATION        DE  332721   1997-02-28        1997   \n",
      "6    WELLS FARGO BANK NATL ASSOC        SD       0   1980-06-02        1980   \n",
      "7                   REGIONS BANK        AL  811118   1997-02-28        1997   \n",
      "8                CENTENNIAL BANK        FL  721310   1997-02-28        1997   \n",
      "9        WEBSTER BANK NATL ASSOC        CT       0   1997-02-28        1997   \n",
      "\n",
      "   ...  RevLineCr  LowDoc  ChgOffDate  DisbursementDate  DisbursementGross  \\\n",
      "0  ...          N       Y         NaT        1999-02-28              60000   \n",
      "1  ...          N       Y         NaT        1997-05-31              40000   \n",
      "2  ...          N       N         NaT        1997-12-31             287000   \n",
      "3  ...          N       Y         NaT        1997-06-30              35000   \n",
      "4  ...          N       N         NaT        1997-05-14             229000   \n",
      "5  ...          N       N         NaT        1997-06-30             517000   \n",
      "6  ...          N       N  1991-06-24        1980-07-22             600000   \n",
      "7  ...          N       Y         NaT        1998-06-30              45000   \n",
      "8  ...          N       N         NaT        1997-07-31             305000   \n",
      "9  ...          N       Y         NaT        1997-04-30              70000   \n",
      "\n",
      "   BalanceGross  MIS_Status ChgOffPrinGr  GrAppv SBA_Appv  \n",
      "0             0       P I F            0   60000    48000  \n",
      "1             0       P I F            0   40000    32000  \n",
      "2             0       P I F            0  287000   215250  \n",
      "3             0       P I F            0   35000    28000  \n",
      "4             0       P I F            0  229000   229000  \n",
      "5             0       P I F            0  517000   387750  \n",
      "6             0      CHGOFF       208959  600000   499998  \n",
      "7             0       P I F            0   45000    36000  \n",
      "8             0       P I F            0  305000   228750  \n",
      "9             0       P I F            0   70000    56000  \n",
      "\n",
      "[10 rows x 27 columns]\n",
      "['LoanNr_ChkDgt', 'Name', 'City', 'State', 'Zip', 'Bank', 'BankState', 'NAICS', 'ApprovalDate', 'ApprovalFY', 'Term', 'NoEmp', 'NewExist', 'CreateJob', 'RetainedJob', 'FranchiseCode', 'UrbanRural', 'RevLineCr', 'LowDoc', 'ChgOffDate', 'DisbursementDate', 'DisbursementGross', 'BalanceGross', 'MIS_Status', 'ChgOffPrinGr', 'GrAppv', 'SBA_Appv']\n",
      "(10000, 27)\n"
     ]
    }
   ],
   "source": [
    "print(train.head(10))\n",
    "print(list(train.columns))\n",
    "print(format(train.shape))"
   ]
  },
  {
   "cell_type": "code",
   "execution_count": 6,
   "metadata": {
    "Collapsed": "false"
   },
   "outputs": [
    {
     "name": "stdout",
     "output_type": "stream",
     "text": [
      "P I F     8118\n",
      "CHGOFF    1861\n",
      "Name: MIS_Status, dtype: int64\n"
     ]
    }
   ],
   "source": [
    "print(train['MIS_Status'].value_counts())"
   ]
  },
  {
   "cell_type": "markdown",
   "metadata": {
    "Collapsed": "false"
   },
   "source": [
    "### Missing Values"
   ]
  },
  {
   "cell_type": "code",
   "execution_count": 7,
   "metadata": {
    "Collapsed": "false"
   },
   "outputs": [
    {
     "name": "stdout",
     "output_type": "stream",
     "text": [
      "                  Sum of Missing\n",
      "ChgOffDate                  8053\n",
      "MIS_Status                    21\n",
      "DisbursementDate              16\n",
      "Bank                           6\n",
      "BankState                      6\n",
      "Name                           4\n",
      "RevLineCr                      1\n"
     ]
    },
    {
     "data": {
      "text/plain": [
       "Text(0.5, 0, 'Features')"
      ]
     },
     "execution_count": 7,
     "metadata": {},
     "output_type": "execute_result"
    },
    {
     "data": {
      "image/png": "[encoded data removed]",
      "text/plain": [
       "<Figure size 432x288 with 1 Axes>"
      ]
     },
     "metadata": {
      "needs_background": "light"
     },
     "output_type": "display_data"
    }
   ],
   "source": [
    "# Missing Values\n",
    "trainnull = train.isnull().sum()\n",
    "trainnulldf = trainnull.to_frame().T\n",
    "trainnulldf = trainnulldf.transpose()\n",
    "trainnulldf.columns = ['Sum of Missing']\n",
    "trainnulldf = trainnulldf.drop(trainnulldf[(trainnulldf['Sum of Missing']==0)].index).sort_values(by=['Sum of Missing'], ascending=False)  \n",
    "\n",
    "print(trainnulldf)    \n",
    "\n",
    "\n",
    "sns.barplot(x=trainnulldf.index, y=trainnulldf['Sum of Missing'])\n",
    "plt.xticks(rotation='90')\n",
    "plt.title('Missing Ratio in the Train data set')\n",
    "plt.ylabel('Sum of Na', fontsize=15)\n",
    "plt.xlabel('Features', fontsize=15)"
   ]
  },
  {
   "cell_type": "markdown",
   "metadata": {
    "Collapsed": "false"
   },
   "source": [
    "After carefull consideration and exploration of the train data set these are the sets that will be taken to clean the data. All changes made are according to the codebook, If the data does not reflect the codebook entries or description it is deemed an error and therefore has to be cleaned.\n",
    " \n",
    "1. Remove LoanNr_ChkDgt and Name: as they are idenifier variables they can be removed since an algorithm will not be able to extract usefull conntection from variables like this.\n",
    " \n",
    "2. NAICS will also be removed due to the large amount of 0's which will cause the alogirthm to pool these entries together when they should not be. \n",
    " \n",
    "3. RevLineCr will be imputed like this: if row[RevlineCr] != Y then impute N. Aka a mode imputation. This variable will be checked for noise in the final scores and be evaluated for removal.\n",
    " \n",
    "4. LowDOC will also get a mode impitation the C will become a N. \n",
    " \n",
    "5. CHgOffDate will be changed to a boolean with 0= NA and 1= Any date, this since it can be assumed that if there is no date then there has never been default.\n",
    "\n",
    "6. DisimbursementDate, Bank, Bankstate all have a low amount of NA's the rows in which these NA's occur will be removed. This leaves the train data with a large enough sample size for algorithms to work properly, it will however reduce noise. \n",
    " \n",
    "7. BalanceGross will be removed as this variable only contains 0's and nothing else therefore being effectively uselss for any predictive analytics. \n",
    " \n",
    "8. MIS_stats will also have it's rows removed in which na's occur like number 6.\n",
    " \n",
    "9. Remove City and ZIP\n",
    "\n",
    "10. Franchise to Binary 0 for no franchise 1 for franchise "
   ]
  },
  {
   "cell_type": "markdown",
   "metadata": {
    "Collapsed": "false"
   },
   "source": [
    "### Na imputation"
   ]
  },
  {
   "cell_type": "code",
   "execution_count": 8,
   "metadata": {
    "Collapsed": "false"
   },
   "outputs": [
    {
     "name": "stdout",
     "output_type": "stream",
     "text": [
      "N    4344\n",
      "Y    3546\n",
      "0    1688\n",
      "T     419\n",
      ",       1\n",
      "`       1\n",
      "Name: RevLineCr, dtype: int64\n",
      "N    6454\n",
      "Y    3546\n",
      "Name: RevLineCr, dtype: int64\n"
     ]
    }
   ],
   "source": [
    "#Number 3  \n",
    "print(train['RevLineCr'].value_counts())\n",
    "\n",
    "for i in train.index:\n",
    "    if train.iloc[i,train.columns.get_loc('RevLineCr')] != \"Y\":\n",
    "        train.at[i, 'RevLineCr'] = \"N\"\n",
    "    else:\n",
    "        train.at[i, 'RevLineCr'] = \"Y\"\n",
    "        \n",
    "print(train['RevLineCr'].value_counts())"
   ]
  },
  {
   "cell_type": "code",
   "execution_count": 9,
   "metadata": {
    "Collapsed": "false"
   },
   "outputs": [
    {
     "name": "stdout",
     "output_type": "stream",
     "text": [
      "N    9046\n",
      "Y     953\n",
      "C       1\n",
      "Name: LowDoc, dtype: int64\n",
      "N    9047\n",
      "Y     953\n",
      "Name: LowDoc, dtype: int64\n"
     ]
    }
   ],
   "source": [
    "#Number 4  \n",
    "print(train['LowDoc'].value_counts())\n",
    "\n",
    "for i in train.index:\n",
    "    if train.iloc[i,train.columns.get_loc('LowDoc')] != \"Y\":\n",
    "        train.at[i, 'LowDoc'] = \"N\"\n",
    "    else:\n",
    "        train.at[i, 'LowDoc'] = \"Y\"\n",
    "        \n",
    "print(train['LowDoc'].value_counts())"
   ]
  },
  {
   "cell_type": "code",
   "execution_count": 10,
   "metadata": {
    "Collapsed": "false"
   },
   "outputs": [
    {
     "name": "stdout",
     "output_type": "stream",
     "text": [
      "0    8053\n",
      "1    1947\n",
      "Name: ChgOffDate, dtype: int64\n"
     ]
    }
   ],
   "source": [
    "#Number 5\n",
    "train['ChgOffDate'] = train['ChgOffDate'].fillna(0)\n",
    "\n",
    "for i in train.index:\n",
    "    if train.iloc[i,train.columns.get_loc('ChgOffDate')] != 0:\n",
    "        train.at[i, 'ChgOffDate'] = 1\n",
    "    else:\n",
    "        train.at[i, 'ChgOffDate'] = 0\n",
    "        \n",
    "print(train['ChgOffDate'].value_counts())"
   ]
  },
  {
   "cell_type": "code",
   "execution_count": 11,
   "metadata": {
    "Collapsed": "false"
   },
   "outputs": [
    {
     "name": "stdout",
     "output_type": "stream",
     "text": [
      "1        9434\n",
      "0         125\n",
      "78760      23\n",
      "50564      16\n",
      "68020      14\n",
      "         ... \n",
      "8047        1\n",
      "8015        1\n",
      "9800        1\n",
      "30210       1\n",
      "75985       1\n",
      "Name: FranchiseCode, Length: 250, dtype: int64\n",
      "0    9559\n",
      "1     441\n",
      "Name: FranchiseCode, dtype: int64\n"
     ]
    }
   ],
   "source": [
    "#Number 10 \n",
    "print(train['FranchiseCode'].value_counts())\n",
    "\n",
    "for i in train.index:\n",
    "    if train.iloc[i,train.columns.get_loc('FranchiseCode')] > 1:\n",
    "        train.at[i, 'FranchiseCode'] = 1\n",
    "    else:\n",
    "        train.at[i, 'FranchiseCode'] = 0\n",
    "        \n",
    "print(train['FranchiseCode'].value_counts())"
   ]
  },
  {
   "cell_type": "code",
   "execution_count": 12,
   "metadata": {
    "Collapsed": "false"
   },
   "outputs": [],
   "source": [
    "# Number 1\n",
    "train.drop(columns=['LoanNr_ChkDgt', 'Name'], inplace=True)\n",
    "\n",
    "# Number 2\n",
    "train.dropna(subset=['NAICS'], inplace=True)\n",
    "\n",
    "# Number 6\n",
    "train.dropna(subset=['Bank'], inplace=True)\n",
    "train.dropna(subset=['BankState'], inplace=True)\n",
    "train.dropna(subset=['DisbursementDate'], inplace=True)\n",
    "\n",
    "# Number 7\n",
    "train.drop(columns=['BalanceGross'], inplace=True)\n",
    "\n",
    "# Number 8\n",
    "train.dropna(subset=['MIS_Status'], inplace=True)\n",
    "\n",
    "#Number 9\n",
    "train.drop(columns=['City'], inplace=True)\n",
    "train.drop(columns=['Zip'], inplace=True)\n",
    "\n",
    "#Remove Specific Dates?\n",
    "train.drop(columns=['ApprovalDate'], inplace=True)\n",
    "train.drop(columns=['DisbursementDate'], inplace=True)\n",
    "train.drop(columns=['NAICS'], inplace=True)"
   ]
  },
  {
   "cell_type": "code",
   "execution_count": 13,
   "metadata": {
    "Collapsed": "false"
   },
   "outputs": [
    {
     "name": "stdout",
     "output_type": "stream",
     "text": [
      "Empty DataFrame\n",
      "Columns: [Sum of Missing]\n",
      "Index: []\n"
     ]
    }
   ],
   "source": [
    "# Missing Values\n",
    "trainnull = train.isnull().sum()\n",
    "trainnulldf = trainnull.to_frame().T\n",
    "trainnulldf = trainnulldf.transpose()\n",
    "trainnulldf.columns = ['Sum of Missing']\n",
    "trainnulldf = trainnulldf.drop(trainnulldf[(trainnulldf['Sum of Missing']==0)].index).sort_values(by=['Sum of Missing'], ascending=False)  \n",
    "\n",
    "print(trainnulldf) "
   ]
  },
  {
   "cell_type": "markdown",
   "metadata": {
    "Collapsed": "false"
   },
   "source": [
    "## Test"
   ]
  },
  {
   "cell_type": "code",
   "execution_count": 14,
   "metadata": {
    "Collapsed": "false"
   },
   "outputs": [
    {
     "name": "stdout",
     "output_type": "stream",
     "text": [
      "   LoanNr_ChkDgt                            Name           City State    Zip  \\\n",
      "0     1069795008                 Maple Dye, Inc.    LOS ANGELES    CA  90005   \n",
      "1     1069835007       Resource Solutions, Corp.       COLUMBUS    WI  53925   \n",
      "2     1069855002                Shadow Horse LLC  BRADLEY BEACH    NJ   7720   \n",
      "3     1069865005  Cold Mountain Company dba Robe        HOUSTON    TX  77098   \n",
      "4     1069875008  Double K Equipment Sales, Inc.         Minden    LA  71055   \n",
      "5     1069884004     TUMBLEWEED GYMNASTICS, INC.     FORT WORTH    TX  76112   \n",
      "6     1069885000        M.D. Science Lab, L.L.C.  POMPANO BEACH    FL  33060   \n",
      "7     1069895003           Butthead Covers, Inc.        GILBERT    AZ  85296   \n",
      "8     1069905004   Sunrise Interior Specialists,        PHOENIX    AZ  85009   \n",
      "9     1069914000                    I AM STAMPIN          UNITY    WI  54488   \n",
      "\n",
      "                             Bank BankState   NAICS ApprovalDate  ApprovalFY  \\\n",
      "0      BANK OF AMERICA NATL ASSOC        NC  424690   2004-09-27        2004   \n",
      "1        BMO HARRIS BK NATL ASSOC        IL  541519   2004-09-27        2004   \n",
      "2      BANK OF AMERICA NATL ASSOC        RI  236118   2004-09-27        2004   \n",
      "3        WOODFOREST NATIONAL BANK        TX  453920   2004-09-27        2004   \n",
      "4          CAPITAL ONE NATL ASSOC        VA  423820   2004-09-27        2004   \n",
      "5           AMER NATL BK OF TEXAS        TX       0   1997-03-27        1997   \n",
      "6      BANK OF AMERICA NATL ASSOC        NC  424210   2004-09-27        2004   \n",
      "7  JPMORGAN CHASE BANK NATL ASSOC        IL  421920   2004-09-27        2004   \n",
      "8      BANK OF AMERICA NATL ASSOC        NC  541410   2004-09-27        2004   \n",
      "9                   HERITAGE BANK        WI  453210   1997-03-27        1997   \n",
      "\n",
      "   ...  RevLineCr  LowDoc  ChgOffDate  DisbursementDate  DisbursementGross  \\\n",
      "0  ...          T       N         NaN        2004-09-30              66869   \n",
      "1  ...          N       N         NaN        2005-03-31             100000   \n",
      "2  ...          N       N         NaN        2004-10-31              18000   \n",
      "3  ...          Y       N         NaN        2004-10-31             387018   \n",
      "4  ...          N       N         NaN        2004-10-31              25000   \n",
      "5  ...          N       Y         NaN        1997-06-30              80000   \n",
      "6  ...          Y       N         NaN        2004-12-31             251913   \n",
      "7  ...          Y       N         NaN        2004-11-30              25000   \n",
      "8  ...          T       N         NaN        2004-09-30              62871   \n",
      "9  ...          N       Y         NaN        1997-04-30              26732   \n",
      "\n",
      "   BalanceGross  MIS_Status ChgOffPrinGr  GrAppv  SBA_Appv  \n",
      "0             0         NaN          NaN   50000     25000  \n",
      "1             0         NaN          NaN  100000     85000  \n",
      "2             0         NaN          NaN   18000      9000  \n",
      "3             0         NaN          NaN  200000    100000  \n",
      "4             0         NaN          NaN   25000     12500  \n",
      "5             0         NaN          NaN   80000     64000  \n",
      "6             0         NaN          NaN  150000     75000  \n",
      "7             0         NaN          NaN   25000     12500  \n",
      "8             0         NaN          NaN   50000     25000  \n",
      "9             0         NaN          NaN   40000     32000  \n",
      "\n",
      "[10 rows x 27 columns]\n",
      "['LoanNr_ChkDgt', 'Name', 'City', 'State', 'Zip', 'Bank', 'BankState', 'NAICS', 'ApprovalDate', 'ApprovalFY', 'Term', 'NoEmp', 'NewExist', 'CreateJob', 'RetainedJob', 'FranchiseCode', 'UrbanRural', 'RevLineCr', 'LowDoc', 'ChgOffDate', 'DisbursementDate', 'DisbursementGross', 'BalanceGross', 'MIS_Status', 'ChgOffPrinGr', 'GrAppv', 'SBA_Appv']\n",
      "(1000, 27)\n"
     ]
    }
   ],
   "source": [
    "print(test.head(10))\n",
    "print(list(test.columns))\n",
    "print(format(test.shape))"
   ]
  },
  {
   "cell_type": "markdown",
   "metadata": {
    "Collapsed": "false"
   },
   "source": [
    "### Missing Values"
   ]
  },
  {
   "cell_type": "code",
   "execution_count": 15,
   "metadata": {
    "Collapsed": "false"
   },
   "outputs": [
    {
     "name": "stdout",
     "output_type": "stream",
     "text": [
      "                  Sum of Missing\n",
      "ChgOffDate                  1000\n",
      "MIS_Status                  1000\n",
      "ChgOffPrinGr                1000\n",
      "DisbursementDate               2\n",
      "Bank                           1\n",
      "BankState                      1\n",
      "RevLineCr                      1\n"
     ]
    },
    {
     "data": {
      "text/plain": [
       "Text(0.5, 0, 'Features')"
      ]
     },
     "execution_count": 15,
     "metadata": {},
     "output_type": "execute_result"
    },
    {
     "data": {
      "image/png": "[encoded data removed]",
      "text/plain": [
       "<Figure size 432x288 with 1 Axes>"
      ]
     },
     "metadata": {
      "needs_background": "light"
     },
     "output_type": "display_data"
    }
   ],
   "source": [
    "testnull = test.isnull().sum()\n",
    "testnulldf = testnull.to_frame().T\n",
    "testnulldf = testnulldf.transpose()\n",
    "testnulldf.columns = ['Sum of Missing']\n",
    "testnulldf = testnulldf.drop(testnulldf[(testnulldf['Sum of Missing']==0)].index).sort_values(by=['Sum of Missing'], ascending=False)  \n",
    "\n",
    "print(testnulldf)    \n",
    "\n",
    "#plt.subplots(figsize=(12,9))\n",
    "sns.barplot(x=testnulldf.index, y=testnulldf['Sum of Missing'])\n",
    "plt.xticks(rotation='90')\n",
    "plt.title('Missing Ratio in the Train data set')\n",
    "plt.ylabel('Sum of Na', fontsize=15)\n",
    "plt.xlabel('Features', fontsize=15)"
   ]
  },
  {
   "cell_type": "markdown",
   "metadata": {
    "Collapsed": "false"
   },
   "source": [
    "Here I will do the same imputation and transformation I have done for the train data set with the exception of the target variables. "
   ]
  },
  {
   "cell_type": "code",
   "execution_count": 16,
   "metadata": {
    "Collapsed": "false"
   },
   "outputs": [
    {
     "name": "stdout",
     "output_type": "stream",
     "text": [
      "N    494\n",
      "Y    399\n",
      "0     67\n",
      "T     39\n",
      "Name: RevLineCr, dtype: int64\n",
      "N    601\n",
      "Y    399\n",
      "Name: RevLineCr, dtype: int64\n"
     ]
    }
   ],
   "source": [
    "#Number 3  \n",
    "print(test['RevLineCr'].value_counts())\n",
    "\n",
    "for i in test.index:\n",
    "    if test.iloc[i,test.columns.get_loc('RevLineCr')] != \"Y\":\n",
    "        test.at[i, 'RevLineCr'] = \"N\"\n",
    "    else:\n",
    "        test.at[i, 'RevLineCr'] = \"Y\"\n",
    "        \n",
    "print(test['RevLineCr'].value_counts())"
   ]
  },
  {
   "cell_type": "code",
   "execution_count": 17,
   "metadata": {
    "Collapsed": "false"
   },
   "outputs": [
    {
     "name": "stdout",
     "output_type": "stream",
     "text": [
      "N    921\n",
      "Y     79\n",
      "Name: LowDoc, dtype: int64\n",
      "N    921\n",
      "Y     79\n",
      "Name: LowDoc, dtype: int64\n"
     ]
    }
   ],
   "source": [
    "#Number 4  \n",
    "print(test['LowDoc'].value_counts())\n",
    "\n",
    "for i in test.index:\n",
    "    if test.iloc[i,test.columns.get_loc('LowDoc')] != \"Y\":\n",
    "        test.at[i, 'LowDoc'] = \"N\"\n",
    "    else:\n",
    "        test.at[i, 'LowDoc'] = \"Y\"\n",
    "        \n",
    "print(test['LowDoc'].value_counts())"
   ]
  },
  {
   "cell_type": "code",
   "execution_count": 18,
   "metadata": {
    "Collapsed": "false"
   },
   "outputs": [
    {
     "name": "stdout",
     "output_type": "stream",
     "text": [
      "1        949\n",
      "0         18\n",
      "78760      4\n",
      "72590      2\n",
      "49952      2\n",
      "24850      2\n",
      "50564      1\n",
      "53250      1\n",
      "33170      1\n",
      "84025      1\n",
      "64650      1\n",
      "67750      1\n",
      "60590      1\n",
      "21780      1\n",
      "79140      1\n",
      "73000      1\n",
      "73675      1\n",
      "53650      1\n",
      "64975      1\n",
      "46561      1\n",
      "52707      1\n",
      "1560       1\n",
      "5725       1\n",
      "50860      1\n",
      "17100      1\n",
      "46875      1\n",
      "73525      1\n",
      "52000      1\n",
      "45505      1\n",
      "Name: FranchiseCode, dtype: int64\n",
      "0    967\n",
      "1     33\n",
      "Name: FranchiseCode, dtype: int64\n"
     ]
    }
   ],
   "source": [
    "#Number 10 \n",
    "print(test['FranchiseCode'].value_counts())\n",
    "\n",
    "for i in test.index:\n",
    "    if test.iloc[i,test.columns.get_loc('FranchiseCode')] > 1:\n",
    "        test.at[i, 'FranchiseCode'] = 1\n",
    "    else:\n",
    "        test.at[i, 'FranchiseCode'] = 0\n",
    "        \n",
    "print(test['FranchiseCode'].value_counts())"
   ]
  },
  {
   "cell_type": "code",
   "execution_count": 19,
   "metadata": {
    "Collapsed": "false"
   },
   "outputs": [],
   "source": [
    "# Number 1\n",
    "test.drop(columns=['LoanNr_ChkDgt', 'Name'], inplace=True)\n",
    "\n",
    "# Number 2\n",
    "test.dropna(subset=['NAICS'], inplace=True)\n",
    "\n",
    "# Number 6\n",
    "test.dropna(subset=['Bank'], inplace=True)\n",
    "test.dropna(subset=['BankState'], inplace=True)\n",
    "test.dropna(subset=['DisbursementDate'], inplace=True)\n",
    "\n",
    "# Number 7\n",
    "test.drop(columns=['BalanceGross'], inplace=True)\n",
    "\n",
    "#Number 9\n",
    "test.drop(columns=['City'], inplace=True)\n",
    "test.drop(columns=['Zip'], inplace=True)\n",
    "\n",
    "#Remove Specific Dates?\n",
    "test.drop(columns=['ApprovalDate'], inplace=True)\n",
    "test.drop(columns=['DisbursementDate'], inplace=True)\n",
    "test.drop(columns=['NAICS'], inplace=True)\n"
   ]
  },
  {
   "cell_type": "code",
   "execution_count": 20,
   "metadata": {
    "Collapsed": "false"
   },
   "outputs": [
    {
     "name": "stdout",
     "output_type": "stream",
     "text": [
      "              Sum of Missing\n",
      "ChgOffDate               998\n",
      "MIS_Status               998\n",
      "ChgOffPrinGr             998\n"
     ]
    },
    {
     "data": {
      "text/plain": [
       "Text(0.5, 0, 'Features')"
      ]
     },
     "execution_count": 20,
     "metadata": {},
     "output_type": "execute_result"
    },
    {
     "data": {
      "image/png": "[encoded data removed]",
      "text/plain": [
       "<Figure size 432x288 with 1 Axes>"
      ]
     },
     "metadata": {
      "needs_background": "light"
     },
     "output_type": "display_data"
    }
   ],
   "source": [
    "# Missing Values\n",
    "testnull = test.isnull().sum()\n",
    "testnulldf = testnull.to_frame().T\n",
    "testnulldf = testnulldf.transpose()\n",
    "testnulldf.columns = ['Sum of Missing']\n",
    "testnulldf = testnulldf.drop(testnulldf[(testnulldf['Sum of Missing']==0)].index).sort_values(by=['Sum of Missing'], ascending=False)  \n",
    "\n",
    "print(testnulldf)    \n",
    "\n",
    "sns.barplot(x=testnulldf.index, y=testnulldf['Sum of Missing'])\n",
    "plt.xticks(rotation='90')\n",
    "plt.title('Missing Ratio in the Train data set')\n",
    "plt.ylabel('Sum of Na', fontsize=15)\n",
    "plt.xlabel('Features', fontsize=15)"
   ]
  },
  {
   "cell_type": "markdown",
   "metadata": {
    "Collapsed": "false"
   },
   "source": [
    "## Comparison of Data Sets after Cleaning"
   ]
  },
  {
   "cell_type": "markdown",
   "metadata": {
    "Collapsed": "false"
   },
   "source": [
    "here I compare columns to make sure that the data sets are identical in its variables, if they are not algorithms will throw errors or warnings."
   ]
  },
  {
   "cell_type": "code",
   "execution_count": 21,
   "metadata": {
    "Collapsed": "false"
   },
   "outputs": [
    {
     "name": "stdout",
     "output_type": "stream",
     "text": [
      "Column difference: []\n",
      "Train Dimensions: (9965, 19)\n",
      "Test Dimensions: (998, 19)\n"
     ]
    }
   ],
   "source": [
    "traincol = list(train.columns)\n",
    "testcol = list(test.columns)\n",
    "\n",
    "def Diff(li1, li2): \n",
    "    return (list(set(li1) - set(li2))) \n",
    "\n",
    "print(\"Column difference:\",Diff(traincol,testcol))\n",
    "\n",
    "print(\"Train Dimensions:\", format(train.shape))\n",
    "print(\"Test Dimensions:\", format(test.shape))"
   ]
  },
  {
   "cell_type": "markdown",
   "metadata": {
    "Collapsed": "false"
   },
   "source": [
    "As we can see there are some entries lost however this method is more robust then any reasonable form of imputation especially regarding the missing bank entries. Guessing what bank was the bank that issues these loans is risky and not statstically robust. The sample size of what is left is sufficient to perform predictive analysis without overfitting. "
   ]
  },
  {
   "cell_type": "markdown",
   "metadata": {
    "Collapsed": "false"
   },
   "source": [
    "## Merge Data Sets"
   ]
  },
  {
   "cell_type": "markdown",
   "metadata": {
    "Collapsed": "false"
   },
   "source": [
    "Data sets will be merged for easier label and one-hot encoding, together with skewness analysis. I do this now since when the NA's were imputed a number of rows were removed which would change the shape of the data sets making it hard to find out where to cut them apart later."
   ]
  },
  {
   "cell_type": "code",
   "execution_count": 22,
   "metadata": {
    "Collapsed": "false"
   },
   "outputs": [
    {
     "name": "stdout",
     "output_type": "stream",
     "text": [
      "(10963, 16)\n"
     ]
    }
   ],
   "source": [
    "# Save Rowcount of Data set to seperate later\n",
    "ntrain = train.shape[0]\n",
    "ntest = test.shape[0]\n",
    "\n",
    "#Save Target Variables\n",
    "y_ChgOffDate = train.ChgOffDate.values\n",
    "\n",
    "\n",
    "y_MIS_Status = train.MIS_Status.values\n",
    "\n",
    "\n",
    "y_ChgOffPrinGr = train.ChgOffPrinGr.values\n",
    "\n",
    "\n",
    "# Merge Data sets.\n",
    "alldata = pd.concat((train, test)).reset_index(drop=True)\n",
    "alldata.drop(['ChgOffDate', 'MIS_Status', 'ChgOffPrinGr'], axis=1, inplace=True)\n",
    "print(format(alldata.shape))\n"
   ]
  },
  {
   "cell_type": "markdown",
   "metadata": {
    "Collapsed": "false"
   },
   "source": [
    "## WebScraping"
   ]
  },
  {
   "cell_type": "markdown",
   "metadata": {
    "Collapsed": "false"
   },
   "source": [
    "For webscraping I downloaded a data set of the internet of past recession periods in the US. I then created a dictionary out the years and included them in a new column based on ApprovedFY. This column is a binominal variable called recession. For conservation purposes I also uploaded this data to my GITHUB and added a row to be able to call this data, however this is currently not utilized.\n",
    "\n",
    "The Data Comes from the St. Louid Federal Reserve Bank more about them here: https://research.stlouisfed.org/about.html"
   ]
  },
  {
   "cell_type": "code",
   "execution_count": 23,
   "metadata": {
    "Collapsed": "false"
   },
   "outputs": [],
   "source": [
    "recession = pd.read_csv(\"https://fred.stlouisfed.org/graph/fredgraph.csv?bgcolor=%23e1e9f0&chart_type=line&drp=0&fo=open%20sans&graph_bgcolor=%23ffffff&height=450&mode=fred&recession_bars=off&txtcolor=%23444444&ts=12&tts=12&width=1168&nt=0&thu=0&trc=0&show_legend=yes&show_axis_titles=yes&show_tooltip=yes&id=JHDUSRGDPBR&scale=left&cosd=1967-10-01&coed=2019-07-01&line_color=%234572a7&link_values=false&line_style=solid&mark_type=none&mw=3&lw=2&ost=-99999&oet=99999&mma=0&fml=a&fq=Quarterly&fam=avg&fgst=lin&fgsnd=2009-06-01&line_index=1&transformation=lin&vintage_date=2020-04-15&revision_date=2020-04-15&nd=1967-10-01\")\n",
    "#recession = pd.read_csv(\"https://github.com/Kydoimos97/FINAN6500DATA/raw/master/data/JHDUSRGDPBR.csv\")\n",
    "\n",
    "recession.rename(columns = {\"JHDUSRGDPBR\" : \"Recession\", \"DATE\" : \"Date\"}, inplace=True)\n",
    "\n",
    "recession['Date'] = pd.to_datetime(recession['Date'])\n",
    "recession['Recession'] = recession['Recession'].astype('int64').astype(dtype=\"category\")\n",
    "\n",
    "recession['Year'] = recession['Date'].dt.year\n"
   ]
  },
  {
   "cell_type": "code",
   "execution_count": 24,
   "metadata": {
    "Collapsed": "false"
   },
   "outputs": [],
   "source": [
    "recession = recession.reset_index()\n",
    "recession = recession.pivot(index='index', columns='Year', values='Recession')\n",
    "recession = recession.mode(axis = 0, dropna=True)\n",
    "recession = recession.drop(index=recession.index.difference([0]))\n",
    "\n",
    "keys = tuple(recession.columns)\n",
    "values = tuple(recession.to_numpy()[0])\n",
    "\n",
    "rename_dict = dict(zip(keys, values))"
   ]
  },
  {
   "cell_type": "code",
   "execution_count": 25,
   "metadata": {
    "Collapsed": "false"
   },
   "outputs": [
    {
     "name": "stdout",
     "output_type": "stream",
     "text": [
      "0    10830\n",
      "1      133\n",
      "Name: Recession, dtype: int64\n"
     ]
    }
   ],
   "source": [
    "alldata['Recession'] = alldata['ApprovalFY']\n",
    "alldata['Recession'] = alldata['Recession'].replace(rename_dict)\n",
    "alldata['Recession'].fillna(0, inplace=True)\n",
    "\n",
    "print(alldata['Recession'].value_counts())"
   ]
  },
  {
   "cell_type": "markdown",
   "metadata": {
    "Collapsed": "false"
   },
   "source": [
    "## Further Cleaning of AllData"
   ]
  },
  {
   "cell_type": "code",
   "execution_count": 26,
   "metadata": {
    "Collapsed": "false"
   },
   "outputs": [
    {
     "name": "stdout",
     "output_type": "stream",
     "text": [
      "P I F     8108\n",
      "CHGOFF    1857\n",
      "Name: 0, dtype: int64\n",
      "0    8108\n",
      "1    1857\n",
      "Name: 0, dtype: int64\n"
     ]
    }
   ],
   "source": [
    "y_MIS_Status = pd.DataFrame(y_MIS_Status)\n",
    "\n",
    "#Number 4  \n",
    "print(y_MIS_Status[0].value_counts())\n",
    "\n",
    "for i in y_MIS_Status.index:\n",
    "    if y_MIS_Status.iloc[i,y_MIS_Status.columns.get_loc(0)] != \"P I F\":\n",
    "        y_MIS_Status.at[i, 0] = 1\n",
    "    else:\n",
    "        y_MIS_Status.at[i, 0] = 0\n",
    "        \n",
    "print(y_MIS_Status[0].value_counts())\n",
    "\n",
    "y_MIS_Status = y_MIS_Status.to_numpy()"
   ]
  },
  {
   "cell_type": "code",
   "execution_count": 27,
   "metadata": {
    "Collapsed": "false"
   },
   "outputs": [],
   "source": [
    "# Give Correct Data Label to target variables\n",
    "y_ChgOffDate=y_ChgOffDate.astype('int')\n",
    "y_MIS_Status = y_MIS_Status.astype('int')\n",
    "y_ChgOffPrinGr = y_ChgOffPrinGr.astype('int')"
   ]
  },
  {
   "cell_type": "markdown",
   "metadata": {
    "Collapsed": "false"
   },
   "source": [
    "# Feature Engineering"
   ]
  },
  {
   "cell_type": "markdown",
   "metadata": {
    "Collapsed": "false"
   },
   "source": [
    "## Target Variable"
   ]
  },
  {
   "cell_type": "markdown",
   "metadata": {
    "Collapsed": "false"
   },
   "source": [
    "For the target variable I will use CHGOffDate with classification algortihms. I chose this variable because when cleaning the data set I changed more about MIS_Status then I did to ChgOffDate therefore making ChgOffDate a more relibable predictor. Also after trying over and over again to improve regression scores on ChgOffPrinGr I ended up with an error of around 50k. I ran into the variable having a zero-inflated probability distribution which I don't know how to deal with as if now. I therefore chose to remove this variable as a target and focus on classification. "
   ]
  },
  {
   "cell_type": "code",
   "execution_count": 28,
   "metadata": {
    "Collapsed": "false"
   },
   "outputs": [
    {
     "name": "stdout",
     "output_type": "stream",
     "text": [
      "[8028, 1937]\n"
     ]
    },
    {
     "data": {
      "image/png": "[encoded data removed]",
      "text/plain": [
       "<Figure size 432x288 with 1 Axes>"
      ]
     },
     "metadata": {
      "needs_background": "light"
     },
     "output_type": "display_data"
    }
   ],
   "source": [
    "import collections\n",
    "\n",
    "c = list(y_ChgOffDate)\n",
    "name = str(c).split()\n",
    "\n",
    "c = collections.Counter(c)\n",
    "c = sorted(c.items())\n",
    "y_ChgOffDate_num = [i[0] for i in c]\n",
    "y_ChgOffDate_names = [name[i[0]-1] for i in c]\n",
    "freq = [i[1] for i in c]\n",
    "\n",
    "print(freq)\n",
    "\n",
    "f, ax = plt.subplots()\n",
    "\n",
    "plt.bar(y_ChgOffDate_num, freq, edgecolor='black')\n",
    "plt.title(\"Frequency of unique values in ChgOffDate\")\n",
    "plt.xlabel(\"Unique Values\")\n",
    "plt.ylabel(\"Frequency\")\n",
    "ax.set_xticks(range(0, 2))\n",
    "ax.set_xticklabels(range(0,2))\n",
    "\n",
    "plt.show()\n"
   ]
  },
  {
   "cell_type": "code",
   "execution_count": 29,
   "metadata": {
    "Collapsed": "false"
   },
   "outputs": [
    {
     "data": {
      "image/png": "[encoded data removed]",
      "text/plain": [
       "<Figure size 432x288 with 1 Axes>"
      ]
     },
     "metadata": {
      "needs_background": "light"
     },
     "output_type": "display_data"
    },
    {
     "data": {
      "image/png": "[encoded data removed]",
      "text/plain": [
       "<Figure size 432x288 with 1 Axes>"
      ]
     },
     "metadata": {
      "needs_background": "light"
     },
     "output_type": "display_data"
    }
   ],
   "source": [
    "# Plot the distribution of the target variable\n",
    "plt.hist(y_ChgOffPrinGr, edgecolor='black')\n",
    "plt.ylabel('Frequency') # Add the Title\n",
    "plt.title('y_ChgOffPrinGr distribution')\n",
    "plt.show()\n",
    "\n",
    "# Plot the QQ-plot of the target variable\n",
    "\n",
    "fig = plt.figure()\n",
    "res = stats.probplot(y_ChgOffPrinGr, plot=plt)\n",
    "plt.show()"
   ]
  },
  {
   "cell_type": "code",
   "execution_count": 30,
   "metadata": {
    "Collapsed": "false"
   },
   "outputs": [
    {
     "data": {
      "image/png": "[encoded data removed]",
      "text/plain": [
       "<Figure size 432x288 with 1 Axes>"
      ]
     },
     "metadata": {
      "needs_background": "light"
     },
     "output_type": "display_data"
    },
    {
     "data": {
      "image/png": "[encoded data removed]",
      "text/plain": [
       "<Figure size 432x288 with 1 Axes>"
      ]
     },
     "metadata": {
      "needs_background": "light"
     },
     "output_type": "display_data"
    }
   ],
   "source": [
    "# Plot the distribution of the target variable\n",
    "plt.hist(np.log1p(y_ChgOffPrinGr), edgecolor='black')\n",
    "plt.ylabel('Frequency') # Add the Title\n",
    "plt.title('y_ChgOffPrinGr distribution tranformed with the natural logarithm of one plus the input array')\n",
    "\n",
    "# Plot the QQ-plot of the target variable\n",
    "\n",
    "fig = plt.figure()\n",
    "res = stats.probplot(np.log1p(y_ChgOffPrinGr), plot=plt)\n",
    "plt.show()"
   ]
  },
  {
   "cell_type": "markdown",
   "metadata": {
    "Collapsed": "false"
   },
   "source": [
    "## Correlation Matrix"
   ]
  },
  {
   "cell_type": "code",
   "execution_count": 31,
   "metadata": {
    "Collapsed": "false"
   },
   "outputs": [
    {
     "data": {
      "text/plain": [
       "<matplotlib.axes._subplots.AxesSubplot at 0x2357b610988>"
      ]
     },
     "execution_count": 31,
     "metadata": {},
     "output_type": "execute_result"
    },
    {
     "data": {
      "image/png": "[encoded data removed]",
      "text/plain": [
       "<Figure size 864x648 with 2 Axes>"
      ]
     },
     "metadata": {
      "needs_background": "light"
     },
     "output_type": "display_data"
    }
   ],
   "source": [
    "correlation = train.corr()\n",
    "plt.subplots(figsize=(12,9))\n",
    "sns.heatmap(correlation, xticklabels=correlation.columns.values,\n",
    "            yticklabels=correlation.columns.values, annot=True)"
   ]
  },
  {
   "cell_type": "markdown",
   "metadata": {
    "Collapsed": "false"
   },
   "source": [
    "## Label Encoding"
   ]
  },
  {
   "cell_type": "markdown",
   "metadata": {
    "Collapsed": "false"
   },
   "source": [
    "Bank is label encoded since one-hot encoding it will create a data set that is so big it hinders performance to an extreme degree. "
   ]
  },
  {
   "cell_type": "code",
   "execution_count": 32,
   "metadata": {
    "Collapsed": "false"
   },
   "outputs": [
    {
     "name": "stdout",
     "output_type": "stream",
     "text": [
      "(10963, 17)\n"
     ]
    }
   ],
   "source": [
    "from sklearn.preprocessing import LabelEncoder\n",
    "\n",
    "lbl = LabelEncoder() \n",
    "lbl.fit(list(alldata['Bank'].values)) \n",
    "alldata['Bank'] = lbl.transform(list(alldata['Bank'].values))\n",
    "\n",
    "# shape        \n",
    "print(format(alldata.shape))"
   ]
  },
  {
   "cell_type": "markdown",
   "metadata": {
    "Collapsed": "false"
   },
   "source": [
    "## Skewness and Box-Cox Transformations"
   ]
  },
  {
   "cell_type": "code",
   "execution_count": 33,
   "metadata": {
    "Collapsed": "false"
   },
   "outputs": [
    {
     "name": "stdout",
     "output_type": "stream",
     "text": [
      "\n",
      "Skew in numerical features: \n",
      "\n"
     ]
    },
    {
     "data": {
      "text/html": [
       "<div>\n",
       "<style scoped>\n",
       "    .dataframe tbody tr th:only-of-type {\n",
       "        vertical-align: middle;\n",
       "    }\n",
       "\n",
       "    .dataframe tbody tr th {\n",
       "        vertical-align: top;\n",
       "    }\n",
       "\n",
       "    .dataframe thead th {\n",
       "        text-align: right;\n",
       "    }\n",
       "</style>\n",
       "<table border=\"1\" class=\"dataframe\">\n",
       "  <thead>\n",
       "    <tr style=\"text-align: right;\">\n",
       "      <th></th>\n",
       "      <th>Skew</th>\n",
       "    </tr>\n",
       "  </thead>\n",
       "  <tbody>\n",
       "    <tr>\n",
       "      <th>NoEmp</th>\n",
       "      <td>70.872035</td>\n",
       "    </tr>\n",
       "    <tr>\n",
       "      <th>RetainedJob</th>\n",
       "      <td>16.636037</td>\n",
       "    </tr>\n",
       "    <tr>\n",
       "      <th>CreateJob</th>\n",
       "      <td>14.703799</td>\n",
       "    </tr>\n",
       "    <tr>\n",
       "      <th>Recession</th>\n",
       "      <td>8.912960</td>\n",
       "    </tr>\n",
       "    <tr>\n",
       "      <th>SBA_Appv</th>\n",
       "      <td>5.031105</td>\n",
       "    </tr>\n",
       "    <tr>\n",
       "      <th>DisbursementGross</th>\n",
       "      <td>4.699813</td>\n",
       "    </tr>\n",
       "    <tr>\n",
       "      <th>GrAppv</th>\n",
       "      <td>4.611168</td>\n",
       "    </tr>\n",
       "    <tr>\n",
       "      <th>FranchiseCode</th>\n",
       "      <td>4.496963</td>\n",
       "    </tr>\n",
       "    <tr>\n",
       "      <th>Term</th>\n",
       "      <td>1.786472</td>\n",
       "    </tr>\n",
       "    <tr>\n",
       "      <th>NewExist</th>\n",
       "      <td>0.723012</td>\n",
       "    </tr>\n",
       "    <tr>\n",
       "      <th>Bank</th>\n",
       "      <td>0.417791</td>\n",
       "    </tr>\n",
       "    <tr>\n",
       "      <th>UrbanRural</th>\n",
       "      <td>0.261263</td>\n",
       "    </tr>\n",
       "    <tr>\n",
       "      <th>ApprovalFY</th>\n",
       "      <td>-1.995248</td>\n",
       "    </tr>\n",
       "  </tbody>\n",
       "</table>\n",
       "</div>"
      ],
      "text/plain": [
       "                        Skew\n",
       "NoEmp              70.872035\n",
       "RetainedJob        16.636037\n",
       "CreateJob          14.703799\n",
       "Recession           8.912960\n",
       "SBA_Appv            5.031105\n",
       "DisbursementGross   4.699813\n",
       "GrAppv              4.611168\n",
       "FranchiseCode       4.496963\n",
       "Term                1.786472\n",
       "NewExist            0.723012\n",
       "Bank                0.417791\n",
       "UrbanRural          0.261263\n",
       "ApprovalFY         -1.995248"
      ]
     },
     "execution_count": 33,
     "metadata": {},
     "output_type": "execute_result"
    }
   ],
   "source": [
    "numeric_feats = alldata.dtypes[alldata.dtypes == \"int64\"].index\n",
    "\n",
    "# Check the skew of all numerical features\n",
    "skewed_feats = alldata[numeric_feats].apply(lambda x: skew(x.dropna())).sort_values(ascending=False)\n",
    "print(\"\\nSkew in numerical features: \\n\")\n",
    "skewness = pd.DataFrame({'Skew' :skewed_feats})\n",
    "skewness.head(21)"
   ]
  },
  {
   "cell_type": "code",
   "execution_count": 34,
   "metadata": {
    "Collapsed": "false"
   },
   "outputs": [
    {
     "name": "stdout",
     "output_type": "stream",
     "text": [
      "\n",
      "Skew in numerical features: \n",
      "\n"
     ]
    },
    {
     "data": {
      "text/html": [
       "<div>\n",
       "<style scoped>\n",
       "    .dataframe tbody tr th:only-of-type {\n",
       "        vertical-align: middle;\n",
       "    }\n",
       "\n",
       "    .dataframe tbody tr th {\n",
       "        vertical-align: top;\n",
       "    }\n",
       "\n",
       "    .dataframe thead th {\n",
       "        text-align: right;\n",
       "    }\n",
       "</style>\n",
       "<table border=\"1\" class=\"dataframe\">\n",
       "  <thead>\n",
       "    <tr style=\"text-align: right;\">\n",
       "      <th></th>\n",
       "      <th>Skew</th>\n",
       "    </tr>\n",
       "  </thead>\n",
       "  <tbody>\n",
       "    <tr>\n",
       "      <th>NewExist</th>\n",
       "      <td>0.723012</td>\n",
       "    </tr>\n",
       "    <tr>\n",
       "      <th>Bank</th>\n",
       "      <td>0.417791</td>\n",
       "    </tr>\n",
       "    <tr>\n",
       "      <th>UrbanRural</th>\n",
       "      <td>0.261263</td>\n",
       "    </tr>\n",
       "  </tbody>\n",
       "</table>\n",
       "</div>"
      ],
      "text/plain": [
       "                Skew\n",
       "NewExist    0.723012\n",
       "Bank        0.417791\n",
       "UrbanRural  0.261263"
      ]
     },
     "execution_count": 34,
     "metadata": {},
     "output_type": "execute_result"
    }
   ],
   "source": [
    "skewness = skewness[abs(skewness) > .75]\n",
    "skewness.dropna(inplace=True)\n",
    "\n",
    "from scipy.special import boxcox1p\n",
    "skewed_features = skewness.index\n",
    "lam = 0.15 #Regularly Picked Value\n",
    "for feat in skewed_features:\n",
    "    alldata[feat] = boxcox1p(alldata[feat], lam)\n",
    "    \n",
    "numeric_feats = alldata.dtypes[alldata.dtypes == \"int64\"].index\n",
    "\n",
    "# Check the skew of all numerical features\n",
    "skewed_feats = alldata[numeric_feats].apply(lambda x: skew(x.dropna())).sort_values(ascending=False)\n",
    "print(\"\\nSkew in numerical features: \\n\")\n",
    "skewness = pd.DataFrame({'Skew' :skewed_feats})\n",
    "skewness.head(21)"
   ]
  },
  {
   "cell_type": "markdown",
   "metadata": {
    "Collapsed": "false"
   },
   "source": [
    "## One-hot Encoding"
   ]
  },
  {
   "cell_type": "code",
   "execution_count": 35,
   "metadata": {
    "Collapsed": "false"
   },
   "outputs": [
    {
     "name": "stdout",
     "output_type": "stream",
     "text": [
      "Variables that will be one-hot encoded are: ['State', 'BankState', 'RevLineCr', 'LowDoc']\n",
      "(10963, 17)\n"
     ]
    }
   ],
   "source": [
    "print(\"Variables that will be one-hot encoded are:\", list(alldata.dtypes[alldata.dtypes == \"object\"].index))\n",
    "print(alldata.shape)"
   ]
  },
  {
   "cell_type": "code",
   "execution_count": 36,
   "metadata": {
    "Collapsed": "false"
   },
   "outputs": [
    {
     "name": "stdout",
     "output_type": "stream",
     "text": [
      "(10963, 120)\n"
     ]
    }
   ],
   "source": [
    "alldata = pd.get_dummies(alldata)\n",
    "print(alldata.shape)"
   ]
  },
  {
   "cell_type": "markdown",
   "metadata": {
    "Collapsed": "false"
   },
   "source": [
    "## Recreate Train and Test Data Sets"
   ]
  },
  {
   "cell_type": "code",
   "execution_count": 37,
   "metadata": {
    "Collapsed": "false"
   },
   "outputs": [],
   "source": [
    "train = alldata[:ntrain]\n",
    "test = alldata[ntrain:]"
   ]
  },
  {
   "cell_type": "markdown",
   "metadata": {
    "Collapsed": "false"
   },
   "source": [
    "## Data Scaling"
   ]
  },
  {
   "cell_type": "markdown",
   "metadata": {
    "Collapsed": "false"
   },
   "source": [
    "I looked into data scaling to help with an ill-condition matrix warning thrown by the KRR algorithm. While I normally would scale my data, this would make it extremely hard to do point 8 effectively. Additionally I am not using any Kernel tricks anymore so this is less of a problem now."
   ]
  },
  {
   "cell_type": "code",
   "execution_count": 38,
   "metadata": {
    "Collapsed": "false"
   },
   "outputs": [],
   "source": [
    "#from sklearn.preprocessing import StandardScaler\n",
    "#scaler = StandardScaler()\n",
    "#scaler.fit(train)\n",
    "\n",
    "#train = scaler.transform(train)\n",
    "#test = scaler.transform(test)\n",
    "\n",
    "#train = pd.DataFrame(train)\n",
    "#test = pd.DataFrame(test)"
   ]
  },
  {
   "cell_type": "markdown",
   "metadata": {
    "Collapsed": "false"
   },
   "source": [
    "## Hold-Out evaluation "
   ]
  },
  {
   "cell_type": "markdown",
   "metadata": {
    "Collapsed": "false"
   },
   "source": [
    "I do this since the correct answers aren't available and I want to make sure my algorithms perform. By utilizing crossvalidation and Hold-Out evaluation I can be confident about my results. This also allows me to easily see my insample accuracy which means I can combat overfitting more easily."
   ]
  },
  {
   "cell_type": "code",
   "execution_count": 39,
   "metadata": {
    "Collapsed": "false"
   },
   "outputs": [],
   "source": [
    "from sklearn.model_selection import train_test_split\n",
    "\n",
    "HO_X_train1, HO_X_test1, HO_y_train_CL, HO_y_test_CL = train_test_split(train, y_ChgOffDate, test_size=0.15)\n",
    "\n",
    "HO_X_train2, HO_X_test2, HO_y_train_CO, HO_y_test_CO = train_test_split(train, y_ChgOffPrinGr, test_size=0.15)"
   ]
  },
  {
   "cell_type": "markdown",
   "metadata": {
    "Collapsed": "false"
   },
   "source": [
    "## Cross-Validation"
   ]
  },
  {
   "cell_type": "markdown",
   "metadata": {
    "Collapsed": "false"
   },
   "source": [
    "The Main metric I will use to evaulate my alogrithms is the accuracy measure."
   ]
  },
  {
   "cell_type": "code",
   "execution_count": 40,
   "metadata": {
    "Collapsed": "false"
   },
   "outputs": [],
   "source": [
    "#Validation function\n",
    "n_folds = 5\n",
    "\n",
    "def acc_cv(model):\n",
    "    kf = KFold(n_folds, shuffle=True, random_state=42).get_n_splits(train.values)\n",
    "    acc= cross_val_score(model, train.values, y_train, scoring='accuracy', cv = kf)\n",
    "    return(acc)"
   ]
  },
  {
   "cell_type": "markdown",
   "metadata": {
    "Collapsed": "false"
   },
   "source": [
    "# Machine Learning"
   ]
  },
  {
   "cell_type": "markdown",
   "metadata": {
    "Collapsed": "false"
   },
   "source": [
    "## Load Algorithms"
   ]
  },
  {
   "cell_type": "code",
   "execution_count": 41,
   "metadata": {
    "Collapsed": "false"
   },
   "outputs": [],
   "source": [
    "from sklearn.model_selection import KFold, cross_val_score, train_test_split\n",
    "from sklearn.metrics import mean_squared_error\n",
    "\n",
    "# XGBoost\n",
    "import xgboost as xgb\n",
    "\n",
    "# KNN\n",
    "from sklearn.neighbors import KNeighborsClassifier\n",
    "from sklearn.model_selection import KFold\n",
    "\n",
    "#Random Forest\n",
    "from sklearn.ensemble import RandomForestClassifier\n",
    "\n",
    "#Support Vector Classification.\n",
    "from sklearn.svm import SVC\n",
    "\n",
    "# Calculate RMSE\n",
    "from sklearn.metrics import mean_squared_error\n",
    "from math import sqrt\n",
    "\n",
    "#Create Confusion Matrix\n",
    "from sklearn.metrics import confusion_matrix, accuracy_score"
   ]
  },
  {
   "cell_type": "markdown",
   "metadata": {
    "Collapsed": "false"
   },
   "source": [
    "## Set Options"
   ]
  },
  {
   "cell_type": "markdown",
   "metadata": {
    "Collapsed": "false"
   },
   "source": [
    "#### Support Vector Classification\n",
    "https://scikit-learn.org/stable/modules/generated/sklearn.svm.SVC.html\n",
    "\n",
    "#### K Neighbors Classifier\n",
    "https://scikit-learn.org/stable/modules/generated/sklearn.neighbors.KNeighborsClassifier.html\n",
    "\n",
    "#### Random Forest\n",
    "https://scikit-learn.org/stable/modules/generated/sklearn.ensemble.RandomForestClassifier.html\n",
    "\n",
    "#### XGBoost\n",
    "https://xgboost.readthedocs.io/en/latest/parameter.html"
   ]
  },
  {
   "cell_type": "code",
   "execution_count": 42,
   "metadata": {
    "Collapsed": "false"
   },
   "outputs": [],
   "source": [
    "model_SVC = SVC(cache_size = 8000)\n",
    "\n",
    "model_KNN = KNeighborsClassifier(n_neighbors=5, weights='distance',algorithm = 'auto', n_jobs = -1)\n",
    "\n",
    "model_RFC = RandomForestClassifier(n_jobs = -1)\n",
    "\n",
    "\n",
    "model_xgb = xgb.XGBClassifier(colsample_bytree=0.5, gamma=0.5, \n",
    "                             learning_rate=0.1, max_depth=6, \n",
    "                             min_child_weight=1.5, n_estimators=2200,\n",
    "                             reg_alpha=0.25, reg_lambda=0.5,\n",
    "                             subsample=0.5, silent=1,\n",
    "                             random_state =7, nthread = -1)\n",
    "\n",
    "y_train = y_ChgOffDate #Target Variable"
   ]
  },
  {
   "cell_type": "markdown",
   "metadata": {
    "Collapsed": "false"
   },
   "source": [
    "## Find Accuracy Scores by using Cross-Validation"
   ]
  },
  {
   "cell_type": "code",
   "execution_count": 43,
   "metadata": {
    "Collapsed": "false"
   },
   "outputs": [
    {
     "name": "stdout",
     "output_type": "stream",
     "text": [
      "Random Forest Cross-Val Accuracy score: 0.9390 (0.0249)\n",
      "\n",
      "\n",
      "\n",
      "########In-Sample Hold-Out########\n",
      "Predicted     0     1   All\n",
      "Actual                     \n",
      "0          6822     0  6822\n",
      "1             0  1648  1648\n",
      "All        6822  1648  8470\n",
      "In-Sample Hold-Out Accuracy =  1.0\n",
      "\n",
      "\n",
      "########Out-Of-Sample Hold-Out########\n",
      "Predicted     0    1   All\n",
      "Actual                    \n",
      "0          1190   16  1206\n",
      "1            72  217   289\n",
      "All        1262  233  1495\n",
      "Out-Of-Sample Hold-Out Accuracy =  0.9411371237458194\n"
     ]
    }
   ],
   "source": [
    "score_RFC = acc_cv(model_RFC)\n",
    "print(\"Random Forest Cross-Val Accuracy score: {:.4f} ({:.4f})\\n\".format(score_RFC.mean(), score_RFC.std()))\n",
    "\n",
    "model_RFC.fit(HO_X_train1, HO_y_train_CL) #Hold-Out\n",
    "\n",
    "RFC_train_pred = model_RFC.predict(HO_X_train1) #InSample Holdout RMSE\n",
    "\n",
    "RFC_pred_HO = model_RFC.predict(HO_X_test1) #Out of Sample Holdout RMSE\n",
    "print(\"\\n\")\n",
    "print(\"########In-Sample Hold-Out########\")\n",
    "print(pd.crosstab(HO_y_train_CL, RFC_train_pred, rownames=['Actual'], colnames=['Predicted'], margins=True))\n",
    "print(\"In-Sample Hold-Out Accuracy = \",accuracy_score(HO_y_train_CL, RFC_train_pred, normalize=True, sample_weight=None))\n",
    "print(\"\\n\")\n",
    "print(\"########Out-Of-Sample Hold-Out########\")\n",
    "print(pd.crosstab(HO_y_test_CL, RFC_pred_HO, rownames=['Actual'], colnames=['Predicted'], margins=True))\n",
    "print(\"Out-Of-Sample Hold-Out Accuracy = \",accuracy_score(HO_y_test_CL, RFC_pred_HO, normalize=True, sample_weight=None))"
   ]
  },
  {
   "cell_type": "code",
   "execution_count": 44,
   "metadata": {
    "Collapsed": "false"
   },
   "outputs": [
    {
     "name": "stdout",
     "output_type": "stream",
     "text": [
      "SVC Accuracy score: 0.8056 (0.0002)\n",
      "\n",
      "\n",
      "\n",
      "########In-Sample Hold-Out########\n",
      "Predicted     0   All\n",
      "Actual               \n",
      "0          6822  6822\n",
      "1          1648  1648\n",
      "All        8470  8470\n",
      "Out-Of-Sample Hold-Out Accuracy =  0.80543093270366\n",
      "\n",
      "\n",
      "########Out-Of-Sample Hold-Out########\n",
      "Predicted     0   All\n",
      "Actual               \n",
      "0          1206  1206\n",
      "1           289   289\n",
      "All        1495  1495\n",
      "Out-Of-Sample Hold-Out Accuracy =  0.8066889632107024\n"
     ]
    }
   ],
   "source": [
    "#####Cross-Validation#####\n",
    "score_SVC = acc_cv(model_SVC)\n",
    "print(\"SVC Accuracy score: {:.4f} ({:.4f})\\n\".format(score_SVC.mean(), score_SVC.std()))\n",
    "\n",
    "#####Hold-Out#####\n",
    "model_SVC.fit(HO_X_train1, HO_y_train_CL) #Hold-Out\n",
    "\n",
    "SVC_train_pred = model_SVC.predict(HO_X_train1) #InSample Holdout RMSE\n",
    "\n",
    "SVC_pred_HO = model_SVC.predict(HO_X_test1) #Out of Sample Holdout RMSE\n",
    "\n",
    "print(\"\\n\")\n",
    "print(\"########In-Sample Hold-Out########\")\n",
    "print(pd.crosstab(HO_y_train_CL, SVC_train_pred, rownames=['Actual'], colnames=['Predicted'], margins=True))\n",
    "print(\"Out-Of-Sample Hold-Out Accuracy = \",accuracy_score(HO_y_train_CL, SVC_train_pred, normalize=True, sample_weight=None))\n",
    "print(\"\\n\")\n",
    "print(\"########Out-Of-Sample Hold-Out########\")\n",
    "print(pd.crosstab(HO_y_test_CL, SVC_pred_HO, rownames=['Actual'], colnames=['Predicted'], margins=True))\n",
    "print(\"Out-Of-Sample Hold-Out Accuracy = \",accuracy_score(HO_y_test_CL, SVC_pred_HO, normalize=True, sample_weight=None))"
   ]
  },
  {
   "cell_type": "code",
   "execution_count": 45,
   "metadata": {
    "Collapsed": "false"
   },
   "outputs": [
    {
     "name": "stdout",
     "output_type": "stream",
     "text": [
      "KNN Accuracy score: 0.8806 (0.0266)\n",
      "\n",
      "\n",
      "\n",
      "########In-Sample Hold-Out########\n",
      "Predicted     0     1   All\n",
      "Actual                     \n",
      "0          6822     0  6822\n",
      "1             0  1648  1648\n",
      "All        6822  1648  8470\n",
      "Out-Of-Sample Hold-Out Accuracy =  1.0\n",
      "\n",
      "\n",
      "########Out-Of-Sample Hold-Out########\n",
      "Predicted     0    1   All\n",
      "Actual                    \n",
      "0          1170   36  1206\n",
      "1           123  166   289\n",
      "All        1293  202  1495\n",
      "Out-Of-Sample Hold-Out Accuracy =  0.8936454849498328\n"
     ]
    }
   ],
   "source": [
    "score_KNN = acc_cv(model_KNN)\n",
    "print(\"KNN Accuracy score: {:.4f} ({:.4f})\\n\".format(score_KNN.mean(), score_KNN.std()))\n",
    "\n",
    "model_KNN.fit(HO_X_train1, HO_y_train_CL) #Hold-Out\n",
    "\n",
    "KNN_train_pred = model_KNN.predict(HO_X_train1) #InSample Holdout RMSE\n",
    "\n",
    "KNN_pred_HO = model_KNN.predict(HO_X_test1) #Out of Sample Holdout RMSE\n",
    "\n",
    "print(\"\\n\")\n",
    "print(\"########In-Sample Hold-Out########\")\n",
    "print(pd.crosstab(HO_y_train_CL, KNN_train_pred, rownames=['Actual'], colnames=['Predicted'], margins=True))\n",
    "print(\"Out-Of-Sample Hold-Out Accuracy = \",accuracy_score(HO_y_train_CL, KNN_train_pred, normalize=True, sample_weight=None))\n",
    "print(\"\\n\")\n",
    "print(\"########Out-Of-Sample Hold-Out########\")\n",
    "print(pd.crosstab(HO_y_test_CL, KNN_pred_HO, rownames=['Actual'], colnames=['Predicted'], margins=True))\n",
    "print(\"Out-Of-Sample Hold-Out Accuracy = \",accuracy_score(HO_y_test_CL, KNN_pred_HO, normalize=True, sample_weight=None))"
   ]
  },
  {
   "cell_type": "code",
   "execution_count": 46,
   "metadata": {
    "Collapsed": "false"
   },
   "outputs": [
    {
     "name": "stdout",
     "output_type": "stream",
     "text": [
      "Xgboost Accuracy score: 0.9497 (0.0164)\n",
      "\n",
      "\n",
      "\n",
      "########In-Sample Hold-Out########\n",
      "Predicted     0     1   All\n",
      "Actual                     \n",
      "0          6819     3  6822\n",
      "1             8  1640  1648\n",
      "All        6827  1643  8470\n",
      "Out-Of-Sample Hold-Out Accuracy =  0.9987012987012988\n",
      "\n",
      "\n",
      "########Out-Of-Sample Hold-Out########\n",
      "Predicted     0    1   All\n",
      "Actual                    \n",
      "0          1184   22  1206\n",
      "1            50  239   289\n",
      "All        1234  261  1495\n",
      "Out-Of-Sample Hold-Out Accuracy =  0.9518394648829431\n"
     ]
    }
   ],
   "source": [
    "score_xgb = acc_cv(model_xgb)\n",
    "print(\"Xgboost Accuracy score: {:.4f} ({:.4f})\\n\".format(score_xgb.mean(), score_xgb.std()))\n",
    "\n",
    "model_xgb.fit(HO_X_train1, HO_y_train_CL) #Hold-Out\n",
    "\n",
    "xgb_train_pred = model_xgb.predict(HO_X_train1) #InSample Holdout RMSE\n",
    "\n",
    "xgb_pred_HO = model_xgb.predict(HO_X_test1) #Out of Sample Holdout RMSE\n",
    "\n",
    "print(\"\\n\")\n",
    "print(\"########In-Sample Hold-Out########\")\n",
    "print(pd.crosstab(HO_y_train_CL, xgb_train_pred, rownames=['Actual'], colnames=['Predicted'], margins=True))\n",
    "print(\"Out-Of-Sample Hold-Out Accuracy = \",accuracy_score(HO_y_train_CL, xgb_train_pred, normalize=True, sample_weight=None))\n",
    "print(\"\\n\")\n",
    "print(\"########Out-Of-Sample Hold-Out########\")\n",
    "print(pd.crosstab(HO_y_test_CL, xgb_pred_HO, rownames=['Actual'], colnames=['Predicted'], margins=True))\n",
    "print(\"Out-Of-Sample Hold-Out Accuracy = \",accuracy_score(HO_y_test_CL, xgb_pred_HO, normalize=True, sample_weight=None))"
   ]
  },
  {
   "cell_type": "markdown",
   "metadata": {
    "Collapsed": "false"
   },
   "source": [
    "## Evaluation of Scores"
   ]
  },
  {
   "cell_type": "code",
   "execution_count": 47,
   "metadata": {
    "Collapsed": "false"
   },
   "outputs": [
    {
     "data": {
      "image/png": "[encoded data removed]",
      "text/plain": [
       "<Figure size 432x288 with 1 Axes>"
      ]
     },
     "metadata": {
      "needs_background": "light"
     },
     "output_type": "display_data"
    },
    {
     "data": {
      "text/html": [
       "<div>\n",
       "<style scoped>\n",
       "    .dataframe tbody tr th:only-of-type {\n",
       "        vertical-align: middle;\n",
       "    }\n",
       "\n",
       "    .dataframe tbody tr th {\n",
       "        vertical-align: top;\n",
       "    }\n",
       "\n",
       "    .dataframe thead th {\n",
       "        text-align: right;\n",
       "    }\n",
       "</style>\n",
       "<table border=\"1\" class=\"dataframe\">\n",
       "  <thead>\n",
       "    <tr style=\"text-align: right;\">\n",
       "      <th></th>\n",
       "      <th>Score</th>\n",
       "    </tr>\n",
       "  </thead>\n",
       "  <tbody>\n",
       "    <tr>\n",
       "      <th>XGB</th>\n",
       "      <td>0.949724</td>\n",
       "    </tr>\n",
       "    <tr>\n",
       "      <th>RFC</th>\n",
       "      <td>0.938986</td>\n",
       "    </tr>\n",
       "    <tr>\n",
       "      <th>KNN</th>\n",
       "      <td>0.880582</td>\n",
       "    </tr>\n",
       "    <tr>\n",
       "      <th>SVC</th>\n",
       "      <td>0.805620</td>\n",
       "    </tr>\n",
       "  </tbody>\n",
       "</table>\n",
       "</div>"
      ],
      "text/plain": [
       "        Score\n",
       "XGB  0.949724\n",
       "RFC  0.938986\n",
       "KNN  0.880582\n",
       "SVC  0.805620"
      ]
     },
     "execution_count": 47,
     "metadata": {},
     "output_type": "execute_result"
    }
   ],
   "source": [
    "scores = {'RFC' : score_RFC.mean(),\n",
    "                   'SVC': score_SVC.mean(), \n",
    "                   'KNN' : score_KNN.mean(), \n",
    "                   'XGB' : score_xgb.mean()}\n",
    "scores_sorted = {k: v for k, v in sorted(scores.items(), reverse=True, key=lambda item: item[1])}\n",
    "\n",
    "scores_sorted\n",
    "keys = scores_sorted.keys()\n",
    "values = scores_sorted.values()\n",
    "\n",
    "\n",
    "\n",
    "barplot = plt.bar(keys, values)\n",
    "barplot[0].set_color('g')\n",
    "barplot[1].set_color('b')\n",
    "barplot[2].set_color('orange')\n",
    "barplot[3].set_color('red')\n",
    "plt.title(\"Accuracy Scores of Algorithms\")\n",
    "plt.xlabel(\"Algorithms\")\n",
    "plt.ylabel(\"Accuracy\")\n",
    "\n",
    "plt.show()\n",
    "\n",
    "\n",
    "scores = pd.DataFrame.from_dict(scores, orient='index',columns=['Score'])\n",
    "\n",
    "scores.sort_values(by = 'Score', ascending=False)"
   ]
  },
  {
   "cell_type": "markdown",
   "metadata": {
    "Collapsed": "false"
   },
   "source": [
    "There are two models who are predicting with high accuracy namely: XGBoost and Random Forest. I will use both these in the Loan officer app of step 9. I will also print both of the generaterd predicted values to a CSV since both of these algorithms seem to be quite accuracte. "
   ]
  },
  {
   "cell_type": "markdown",
   "metadata": {
    "Collapsed": "false"
   },
   "source": [
    "## Exporting Predictions"
   ]
  },
  {
   "cell_type": "code",
   "execution_count": 48,
   "metadata": {
    "Collapsed": "false"
   },
   "outputs": [],
   "source": [
    "model_xgb.fit(train, y_train) #Train on Full Train Data\n",
    "xgb_pred = model_xgb.predict(test) #Predict on Test\n",
    "xgb_pred = pd.DataFrame(xgb_pred)\n",
    "xgb_pred.to_csv('xgb_classifier_pred.csv',index=False)"
   ]
  },
  {
   "cell_type": "code",
   "execution_count": 49,
   "metadata": {
    "Collapsed": "false"
   },
   "outputs": [],
   "source": [
    "model_RFC.fit(train, y_train) #Train on Full Train Data\n",
    "RFC_pred = model_RFC.predict(test) #Predict on Test\n",
    "RFC_pred = pd.DataFrame(RFC_pred)\n",
    "RFC_pred.to_csv(\"RFC_classifier_pred.csv\",index=False)"
   ]
  },
  {
   "cell_type": "markdown",
   "metadata": {
    "Collapsed": "false"
   },
   "source": [
    "##### Stop Code Timing"
   ]
  },
  {
   "cell_type": "code",
   "execution_count": 50,
   "metadata": {
    "Collapsed": "false"
   },
   "outputs": [
    {
     "name": "stdout",
     "output_type": "stream",
     "text": [
      "--- 123.21951627731323 seconds ---\n"
     ]
    }
   ],
   "source": [
    "print(\"--- %s seconds ---\" % (time.time() - start_time))"
   ]
  }
 ],
 "metadata": {
  "kernelspec": {
   "display_name": "Python 3",
   "language": "python",
   "name": "python3"
  },
  "language_info": {
   "codemirror_mode": {
    "name": "ipython",
    "version": 3
   },
   "file_extension": ".py",
   "mimetype": "text/x-python",
   "name": "python",
   "nbconvert_exporter": "python",
   "pygments_lexer": "ipython3",
   "version": "3.7.7"
  },
  "varInspector": {
   "cols": {
    "lenName": 16,
    "lenType": 16,
    "lenVar": 40
   },
   "kernels_config": {
    "python": {
     "delete_cmd_postfix": "",
     "delete_cmd_prefix": "del ",
     "library": "var_list.py",
     "varRefreshCmd": "print(var_dic_list())"
    },
    "r": {
     "delete_cmd_postfix": ") ",
     "delete_cmd_prefix": "rm(",
     "library": "var_list.r",
     "varRefreshCmd": "cat(var_dic_list()) "
    }
   },
   "types_to_exclude": [
    "module",
    "function",
    "builtin_function_or_method",
    "instance",
    "_Feature"
   ],
   "window_display": false
  }
 },
 "nbformat": 4,
 "nbformat_minor": 4
}
